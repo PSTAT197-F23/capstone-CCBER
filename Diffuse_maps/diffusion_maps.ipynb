{
 "cells": [
  {
   "cell_type": "code",
   "execution_count": 8,
   "metadata": {},
   "outputs": [
    {
     "name": "stdout",
     "output_type": "stream",
     "text": [
      "df shape: (618, 6)\n"
     ]
    },
    {
     "data": {
      "text/html": [
       "<div>\n",
       "<style scoped>\n",
       "    .dataframe tbody tr th:only-of-type {\n",
       "        vertical-align: middle;\n",
       "    }\n",
       "\n",
       "    .dataframe tbody tr th {\n",
       "        vertical-align: top;\n",
       "    }\n",
       "\n",
       "    .dataframe thead th {\n",
       "        text-align: right;\n",
       "    }\n",
       "</style>\n",
       "<table border=\"1\" class=\"dataframe\">\n",
       "  <thead>\n",
       "    <tr style=\"text-align: right;\">\n",
       "      <th></th>\n",
       "      <th>serial</th>\n",
       "      <th>species</th>\n",
       "      <th>side</th>\n",
       "      <th>image_path</th>\n",
       "      <th>img_height</th>\n",
       "      <th>img_weights</th>\n",
       "    </tr>\n",
       "  </thead>\n",
       "  <tbody>\n",
       "    <tr>\n",
       "      <th>0</th>\n",
       "      <td>IZC00008208</td>\n",
       "      <td>Agapostemon texanus</td>\n",
       "      <td>L</td>\n",
       "      <td>c:\\Users\\17075\\Desktop\\Code for beginner\\Proje...</td>\n",
       "      <td>169.0</td>\n",
       "      <td>479.0</td>\n",
       "    </tr>\n",
       "    <tr>\n",
       "      <th>0</th>\n",
       "      <td>IZC00008208</td>\n",
       "      <td>Agapostemon texanus</td>\n",
       "      <td>R</td>\n",
       "      <td>c:\\Users\\17075\\Desktop\\Code for beginner\\Proje...</td>\n",
       "      <td>148.0</td>\n",
       "      <td>465.0</td>\n",
       "    </tr>\n",
       "    <tr>\n",
       "      <th>0</th>\n",
       "      <td>IZC00012323</td>\n",
       "      <td>Agapostemon texanus</td>\n",
       "      <td>L</td>\n",
       "      <td>c:\\Users\\17075\\Desktop\\Code for beginner\\Proje...</td>\n",
       "      <td>157.0</td>\n",
       "      <td>382.0</td>\n",
       "    </tr>\n",
       "    <tr>\n",
       "      <th>0</th>\n",
       "      <td>IZC00012323</td>\n",
       "      <td>Agapostemon texanus</td>\n",
       "      <td>R</td>\n",
       "      <td>c:\\Users\\17075\\Desktop\\Code for beginner\\Proje...</td>\n",
       "      <td>143.0</td>\n",
       "      <td>390.0</td>\n",
       "    </tr>\n",
       "    <tr>\n",
       "      <th>0</th>\n",
       "      <td>IZC00012454</td>\n",
       "      <td>Agapostemon texanus</td>\n",
       "      <td>L</td>\n",
       "      <td>c:\\Users\\17075\\Desktop\\Code for beginner\\Proje...</td>\n",
       "      <td>148.0</td>\n",
       "      <td>446.0</td>\n",
       "    </tr>\n",
       "  </tbody>\n",
       "</table>\n",
       "</div>"
      ],
      "text/plain": [
       "        serial              species side  \\\n",
       "0  IZC00008208  Agapostemon texanus    L   \n",
       "0  IZC00008208  Agapostemon texanus    R   \n",
       "0  IZC00012323  Agapostemon texanus    L   \n",
       "0  IZC00012323  Agapostemon texanus    R   \n",
       "0  IZC00012454  Agapostemon texanus    L   \n",
       "\n",
       "                                          image_path  img_height  img_weights  \n",
       "0  c:\\Users\\17075\\Desktop\\Code for beginner\\Proje...       169.0        479.0  \n",
       "0  c:\\Users\\17075\\Desktop\\Code for beginner\\Proje...       148.0        465.0  \n",
       "0  c:\\Users\\17075\\Desktop\\Code for beginner\\Proje...       157.0        382.0  \n",
       "0  c:\\Users\\17075\\Desktop\\Code for beginner\\Proje...       143.0        390.0  \n",
       "0  c:\\Users\\17075\\Desktop\\Code for beginner\\Proje...       148.0        446.0  "
      ]
     },
     "execution_count": 8,
     "metadata": {},
     "output_type": "execute_result"
    }
   ],
   "source": [
    "import pandas as pd\n",
    "import numpy as np\n",
    "import os\n",
    "import matplotlib.pyplot as plt\n",
    "import cv2 \n",
    "from pathlib import Path\n",
    "\n",
    "\n",
    "#Please import the folder bee_wing_photos_cropped_0508 into your working directory\n",
    "file_path = os.path.join(Path(os.getcwd()).parent, 'bee_wing_photos_cropped_0508')\n",
    "\n",
    "def read_files(file_path):\n",
    "    df = pd.DataFrame({\n",
    "        'serial':[],\n",
    "        'species':[],\n",
    "        'side':[],\n",
    "        'image_path':[]\n",
    "    })\n",
    "\n",
    "    for species_name in os.listdir(file_path):\n",
    "        species_path = os.path.join(file_path, species_name)\n",
    "        \n",
    "        for image_name in os.listdir(species_path):\n",
    "            if not image_name.lower().endswith((\".jpg\",\".png\")):\n",
    "                continue\n",
    "\n",
    "            image_path = os.path.join(species_path, image_name)\n",
    "\n",
    "            observation = dict()\n",
    "            observation['species'] = [species_name]\n",
    "            observation['image_path'] = [image_path]\n",
    "            \n",
    "            start_idx = image_name.find(\"-\")\n",
    "            end_idx = image_name.find(\"_\")\n",
    "            observation['serial'] = [image_name[start_idx+1:end_idx]]\n",
    "            observation['side'] = [image_name[end_idx+1]]\n",
    "            \n",
    "            img = cv2.imread(image_path)\n",
    "            #observation['img_arr'] = [img.tolist()]\n",
    "            observation['img_height'] = [img.shape[0]]\n",
    "            observation['img_weights'] = [img.shape[1]]\n",
    "\n",
    "            df = pd.concat([df, pd.DataFrame(observation)])\n",
    "\n",
    "    df.set_index('serial')\n",
    "    print('df shape:', df.shape)\n",
    "    return df \n",
    "\n",
    "beewings_df = read_files(file_path)\n",
    "\n",
    "\n",
    "\n",
    "beewings_df.head()"
   ]
  },
  {
   "cell_type": "code",
   "execution_count": 9,
   "metadata": {},
   "outputs": [
    {
     "data": {
      "text/plain": [
       "<matplotlib.legend.Legend at 0x1d81a33bf40>"
      ]
     },
     "execution_count": 9,
     "metadata": {},
     "output_type": "execute_result"
    },
    {
     "data": {
      "image/png": "[encoded data removed]",
      "text/plain": [
       "<Figure size 640x480 with 1 Axes>"
      ]
     },
     "metadata": {},
     "output_type": "display_data"
    }
   ],
   "source": [
    "beewings_df['img_height'].hist(label='Heights')\n",
    "beewings_df['img_weights'].hist(label='Width')\n",
    "plt.legend()\n",
    "\n"
   ]
  },
  {
   "cell_type": "code",
   "execution_count": 10,
   "metadata": {},
   "outputs": [
    {
     "data": {
      "image/png": "[encoded data removed]",
      "text/plain": [
       "<Figure size 640x480 with 1 Axes>"
      ]
     },
     "metadata": {},
     "output_type": "display_data"
    }
   ],
   "source": [
    "(beewings_df['img_height'] / beewings_df['img_weights']).hist(bins=np.linspace(0, 1, 20))\n",
    "plt.title('aspect ratio')\n",
    "\n",
    "h = int(beewings_df['img_height'].mean())\n",
    "w = int(beewings_df['img_weights'].mean())"
   ]
  },
  {
   "cell_type": "code",
   "execution_count": 14,
   "metadata": {},
   "outputs": [
    {
     "data": {
      "text/plain": [
       "<matplotlib.image.AxesImage at 0x1d81bd05580>"
      ]
     },
     "execution_count": 14,
     "metadata": {},
     "output_type": "execute_result"
    },
    {
     "data": {
      "image/png": "[encoded data removed]",
      "text/plain": [
       "<Figure size 640x480 with 1 Axes>"
      ]
     },
     "metadata": {},
     "output_type": "display_data"
    }
   ],
   "source": [
    "def skeletonize_image(img):\n",
    "    image_chosen = img.copy()\n",
    "    r = 500.0 / image_chosen.shape[1]\n",
    "    dim = (500, int(image_chosen.shape[0] * r))\n",
    "    image_chosen = cv2.resize(image_chosen, dim, interpolation=cv2.INTER_AREA)\n",
    "\n",
    "    #gray scale + bluring. \n",
    "    image_chosen_gray = cv2.cvtColor(image_chosen, cv2.COLOR_BGR2HSV)[:,:,-1]\n",
    "    image_chosen_gray = image_chosen[:,:,-1].copy()\n",
    "\n",
    "  \n",
    "    clahe = cv2.createCLAHE(clipLimit=2.0, tileGridSize=(3,3))\n",
    "    #image_chosen_gray = clahe.apply(image_chosen_gray)\n",
    "\n",
    "    se=cv2.getStructuringElement(cv2.MORPH_RECT , (3,3))\n",
    "    bg=cv2.morphologyEx(image_chosen_gray, cv2.MORPH_DILATE, se)\n",
    "    #image_chosen_gray=cv2.divide(image_chosen_gray, bg, scale=255)\n",
    "\n",
    "\n",
    "    image_chosen_gray_blur = cv2.medianBlur(image_chosen_gray,3)\n",
    "    image_chosen_gray_blur = cv2.bilateralFilter(image_chosen_gray_blur, 3, 50, 50)\n",
    "    divide = cv2.divide(image_chosen_gray, image_chosen_gray_blur, scale=255)\n",
    "    th = cv2.adaptiveThreshold(image_chosen_gray_blur,255,cv2.ADAPTIVE_THRESH_GAUSSIAN_C, cv2.THRESH_BINARY_INV,3,1,)\n",
    "\n",
    "    _, th2 = cv2.threshold(divide,0,255,cv2.THRESH_BINARY_INV+cv2.THRESH_OTSU)\n",
    "    \n",
    "    noise_remove = th.copy()\n",
    "    noise_remove = cv2.medianBlur(noise_remove, 3)\n",
    "    noise_remove = cv2.dilate(noise_remove, np.full(3,3),255)\n",
    "    contours, hierarchy = cv2.findContours(noise_remove, cv2.RETR_CCOMP, cv2.CHAIN_APPROX_SIMPLE,)\n",
    "    filtered_contours = [i for i in contours if cv2.contourArea(i) < 20]\n",
    "    noise_remove = cv2.drawContours(noise_remove, filtered_contours, -1, 0, cv2.FILLED)\n",
    "    contours, _ = cv2.findContours(noise_remove, cv2.RETR_LIST, cv2.CHAIN_APPROX_SIMPLE,)\n",
    "    kernel = np.full((5,5), 255)\n",
    "    kernel = cv2.getStructuringElement(cv2.MORPH_ELLIPSE, (3,3))\n",
    "    noise_remove = cv2.morphologyEx(noise_remove, cv2.MORPH_CLOSE, kernel, iterations=1)\n",
    "\n",
    " \n",
    "    ### return by grayscale!!\n",
    "    sharpened_image = np.zeros_like(image_chosen_gray)\n",
    "    sharpened_image[noise_remove == 255] = image_chosen_gray[noise_remove == 255]\n",
    "    sharpened_image[noise_remove == 0] = image_chosen_gray_blur[noise_remove == 0]\n",
    "\n",
    "\n",
    "    #Repeat step 2 and 3 \n",
    "    sharpened_image_copy = sharpened_image.copy()\n",
    "    sharpened_image_copy = cv2.medianBlur(sharpened_image_copy,3)\n",
    "    sharpened_image_copy = cv2.bilateralFilter(sharpened_image_copy, 3, 50, 50)\n",
    "\n",
    "    th = cv2.adaptiveThreshold(sharpened_image_copy,255,cv2.ADAPTIVE_THRESH_GAUSSIAN_C, cv2.THRESH_BINARY_INV,3,2,)\n",
    "    noise_remove = th.copy()\n",
    "\n",
    "\n",
    "    contours, _ = cv2.findContours(noise_remove, cv2.RETR_LIST, cv2.CHAIN_APPROX_SIMPLE,)\n",
    "    filtered_contours = [i for i in contours if cv2.contourArea(i) < 10]\n",
    "    noise_remove = cv2.drawContours(noise_remove, filtered_contours, -1, 0, cv2.FILLED)\n",
    "\n",
    "   \n",
    "    kernel = cv2.getStructuringElement(cv2.MORPH_RECT, (5,5))\n",
    "    noise_remove = cv2.morphologyEx(noise_remove, cv2.MORPH_DILATE, kernel, iterations=1)\n",
    "\n",
    "    des = cv2.bitwise_not(noise_remove)\n",
    "    contour,hier = cv2.findContours(des,cv2.RETR_CCOMP,cv2.CHAIN_APPROX_SIMPLE)\n",
    "    filtered_contours = [i for i in contour if cv2.contourArea(i) < 200]\n",
    "    for cnt in filtered_contours:\n",
    "        cv2.drawContours(des,[cnt],0,0,-1)\n",
    "    noise_remove = cv2.bitwise_not(des)\n",
    "\n",
    "\n",
    "    ## thinning, https://github.com/linbojin/Skeletonization-by-Zhang-Suen-Thinning-Algorithm\n",
    "    from thin import zhangSuen\n",
    "    skinny = zhangSuen(noise_remove/255) * 255\n",
    "    skinny = skinny.astype('uint8')\n",
    "    return skinny\n",
    "\n",
    "plt.imshow(skeletonize_image(cv2.imread(beewings_df.image_path.iloc[2])))"
   ]
  },
  {
   "cell_type": "code",
   "execution_count": 15,
   "metadata": {},
   "outputs": [
    {
     "data": {
      "text/plain": [
       "(618, 420, 163)"
      ]
     },
     "execution_count": 15,
     "metadata": {},
     "output_type": "execute_result"
    }
   ],
   "source": [
    "data_arr = []\n",
    "for i in beewings_df.image_path:\n",
    "    img = cv2.imread(i)\n",
    "    img = skeletonize_image(img)\n",
    "    img = cv2.resize(img, (h,w))\n",
    "    data_arr.append(img)\n",
    "    \n",
    "data_arr = np.array(data_arr)\n",
    "data_arr.shape\n",
    "    "
   ]
  },
  {
   "cell_type": "code",
   "execution_count": 17,
   "metadata": {},
   "outputs": [],
   "source": [
    "\n",
    "np.save('img_pixels.npy',data_arr.reshape(len(data_arr), -1))\n",
    "#import csv\n",
    "#with open(\"img_pixels.csv\", 'a') as f:\n",
    "#    writer = csv.writer(f) \n",
    "#    for value in data_arr.reshape(len(data_arr), -1):\n",
    "#        print(value.shape)\n",
    "#        writer.writerow(value)"
   ]
  },
  {
   "cell_type": "markdown",
   "metadata": {},
   "source": [
    "\n",
    "https://github.com/jmbr/diffusion-maps\n",
    "Run in Terminal the following command: diffusion-maps img_pixels.npy 1 --plot  "
   ]
  },
  {
   "cell_type": "markdown",
   "metadata": {},
   "source": [
    "Eigen value and vectors stored in eigenvalues.dat and eigenvectors.npy\n",
    "flattened skeletonized iage stored in img_pixels.npy\n",
    "\n",
    "Conclusion: Eigen values are all 1 in diffusion mapping; No information can be found from flattening raw cropped images nor skeletonized images by treating pixels as features; This could be due to spatial information being lost during flattening, as well as non-standardized nature of image data;"
   ]
  }
 ],
 "metadata": {
  "kernelspec": {
   "display_name": "base",
   "language": "python",
   "name": "python3"
  },
  "language_info": {
   "codemirror_mode": {
    "name": "ipython",
    "version": 3
   },
   "file_extension": ".py",
   "mimetype": "text/x-python",
   "name": "python",
   "nbconvert_exporter": "python",
   "pygments_lexer": "ipython3",
   "version": "3.9.18"
  }
 },
 "nbformat": 4,
 "nbformat_minor": 2
}
